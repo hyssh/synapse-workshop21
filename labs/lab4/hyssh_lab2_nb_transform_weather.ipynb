{
  "nbformat": 4,
  "nbformat_minor": 2,
  "cells": [
    {
      "cell_type": "code",
      "execution_count": null,
      "outputs": [],
      "metadata": {
        "microsoft": {
          "language": "python"
        },
        "collapsed": false
      },
      "source": [
        "%%pyspark\r\n",
        "df = spark.read.load('abfss://sampledataset@REPLACETHIS.dfs.core.windows.net/flight/weather-ref/AirportWeatherReferenceData.csv', format='csv', header=True, )\r\n",
        "display(df.limit(10))"
      ]
    },
    {
      "cell_type": "code",
      "execution_count": null,
      "outputs": [],
      "metadata": {
        "jupyter": {
          "source_hidden": false,
          "outputs_hidden": false
        },
        "nteract": {
          "transient": {
            "deleting": false
          }
        },
        "collapsed": true
      },
      "source": [
        "df = df.na.fill('')"
      ]
    },
    {
      "cell_type": "code",
      "execution_count": null,
      "outputs": [],
      "metadata": {
        "jupyter": {
          "source_hidden": false,
          "outputs_hidden": false
        },
        "nteract": {
          "transient": {
            "deleting": false
          }
        },
        "collapsed": false
      },
      "source": [
        "display(df.limit(10))"
      ]
    },
    {
      "cell_type": "code",
      "execution_count": null,
      "outputs": [],
      "metadata": {
        "jupyter": {
          "source_hidden": false,
          "outputs_hidden": false
        },
        "nteract": {
          "transient": {
            "deleting": false
          }
        },
        "collapsed": true
      },
      "source": [
        "df.write.mode(\"overwrite\").saveAsTable(\"default.weather\")"
      ]
    },
    {
      "cell_type": "code",
      "execution_count": null,
      "outputs": [],
      "metadata": {
        "jupyter": {
          "source_hidden": false,
          "outputs_hidden": false
        },
        "nteract": {
          "transient": {
            "deleting": false
          }
        },
        "collapsed": true
      },
      "source": [
        "df"
      ]
    },
    {
      "cell_type": "code",
      "execution_count": null,
      "outputs": [],
      "metadata": {
        "jupyter": {
          "source_hidden": false,
          "outputs_hidden": false
        },
        "nteract": {
          "transient": {
            "deleting": false
          }
        },
        "microsoft": {
          "language": "sparksql"
        },
        "collapsed": false
      },
      "source": [
        "%%sql\r\n",
        "select distinct * from\r\n",
        "(\r\n",
        "select distinct \r\n",
        "month,\r\n",
        "day,\r\n",
        "latitude,\r\n",
        "longitude,\r\n",
        "ceil(time / 100) as hour,\r\n",
        "cast((case wind_speed when null then 0.0 when 'M' then 0.0 else wind_speed end) as decimal(5,3)) as wind_speed,\r\n",
        "cast((case sea_level_pressure when null then 0.0 when 'M' then 29.92 else sea_level_pressure end) as decimal(5,3)) as sea_level_pressure,\r\n",
        "cast((case hourly_precip when '' then 0.0 when 'T' then 0.05 else hourly_precip end) as decimal(5,3)) as hourly_precip \r\n",
        "from default.weather\r\n",
        ") x"
      ]
    },
    {
      "cell_type": "code",
      "execution_count": null,
      "outputs": [],
      "metadata": {
        "jupyter": {
          "source_hidden": false,
          "outputs_hidden": false
        },
        "nteract": {
          "transient": {
            "deleting": false
          }
        },
        "microsoft": {
          "language": "python"
        },
        "collapsed": true
      },
      "source": [
        "%%pyspark\r\n",
        "weatherDF = sqlContext.sql(\"\"\"\r\n",
        "select distinct * from\r\n",
        "(\r\n",
        "select distinct \r\n",
        "month,\r\n",
        "day,\r\n",
        "latitude,\r\n",
        "longitude,\r\n",
        "ceil(time / 100) as hour,\r\n",
        "cast((case wind_speed when null then 0.0 when 'M' then 0.0 else wind_speed end) as decimal(5,3)) as wind_speed,\r\n",
        "cast((case sea_level_pressure when null then 0.0 when 'M' then 29.92 else sea_level_pressure end) as decimal(5,3)) as sea_level_pressure,\r\n",
        "cast((case hourly_precip when '' then 0.0 when 'T' then 0.05 else hourly_precip end) as decimal(5,3)) as hourly_precip \r\n",
        "from default.weather\r\n",
        ") x\r\n",
        "\"\"\").cache()"
      ]
    },
    {
      "cell_type": "code",
      "execution_count": null,
      "outputs": [],
      "metadata": {
        "jupyter": {
          "source_hidden": false,
          "outputs_hidden": false
        },
        "nteract": {
          "transient": {
            "deleting": false
          }
        },
        "microsoft": {
          "language": "python"
        },
        "collapsed": false
      },
      "source": [
        "%%pyspark\r\n",
        "display(weatherDF.head(5))"
      ]
    },
    {
      "cell_type": "code",
      "execution_count": null,
      "outputs": [],
      "metadata": {
        "jupyter": {
          "source_hidden": false,
          "outputs_hidden": false
        },
        "nteract": {
          "transient": {
            "deleting": false
          }
        },
        "collapsed": true
      },
      "source": [
        "weatherDF"
      ]
    },
    {
      "cell_type": "code",
      "execution_count": null,
      "outputs": [],
      "metadata": {
        "jupyter": {
          "source_hidden": false,
          "outputs_hidden": false
        },
        "nteract": {
          "transient": {
            "deleting": false
          }
        },
        "collapsed": true
      },
      "source": [
        "weatherDF.coalesce(1).write.mode('overwrite').format(\"csv\").option(\"header\", \"true\").save('abfss://sampledataset@REPLACETHIS.dfs.core.windows.net/flight/weather-ref/REPLACETHISWITHALIAS/AirportWeatherReferenceData.csv')"
      ]
    }
  ],
  "metadata": {
    "save_output": true,
    "kernelspec": {
      "name": "synapse_pyspark",
      "display_name": "python"
    },
    "language_info": {
      "name": "python"
    },
    "synapse_widget": {
      "version": "0.1",
      "state": {}
    }
  }
}