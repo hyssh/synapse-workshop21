{
  "nbformat": 4,
  "nbformat_minor": 2,
  "cells": [
    {
      "cell_type": "code",
      "execution_count": null,
      "outputs": [],
      "metadata": {
        "microsoft": {},
        "collapsed": false
      },
      "source": [
        "df = spark.read.load('abfss://sampledataset@##REPLACETHIS##.dfs.core.windows.net/nyctaxi/NYCTripSmall.parquet', format='parquet')\r\n",
        "display(df.limit(10))"
      ]
    },
    {
      "cell_type": "code",
      "execution_count": null,
      "outputs": [],
      "metadata": {
        "jupyter": {
          "source_hidden": false,
          "outputs_hidden": false
        },
        "nteract": {
          "transient": {
            "deleting": false
          }
        },
        "microsoft": {},
        "collapsed": true
      },
      "source": [
        "df.printSchema()"
      ]
    },
    {
      "cell_type": "code",
      "execution_count": 2,
      "outputs": [
        {
          "output_type": "display_data",
          "data": {
            "application/vnd.livy.statement-meta+json": {
              "spark_pool": null,
              "session_id": null,
              "statement_id": null,
              "state": "session_error",
              "livy_statement_state": null,
              "queued_time": "2021-05-13T05:44:01.5824524Z",
              "execution_start_time": null,
              "execution_finish_time": null
            },
            "text/plain": "StatementMeta(, , , SessionError, )"
          },
          "metadata": {}
        },
        {
          "output_type": "error",
          "ename": "LivySessionException",
          "evalue": "Livy session has failed. Session yields \"Failed\" result.",
          "traceback": [
            "LivySessionException: Livy session has failed. Session yields \"Failed\" result."
          ]
        }
      ],
      "metadata": {
        "jupyter": {
          "source_hidden": false,
          "outputs_hidden": false
        },
        "nteract": {
          "transient": {
            "deleting": false
          }
        },
        "microsoft": {},
        "collapsed": true
      },
      "source": [
        "spark.sql(\"CREATE DATABASE IF NOT EXISTS ##REPLACETHIS##_nyctaxi\")\r\n",
        "spark.catalog.setCurrentDatabase(\"##REPLACETHIS##_nyctaxi\")\r\n",
        "df.write.mode(\"overwrite\").saveAsTable(\"trip\")"
      ]
    },
    {
      "cell_type": "code",
      "execution_count": 1,
      "outputs": [
        {
          "output_type": "display_data",
          "data": {
            "application/vnd.livy.statement-meta+json": {
              "spark_pool": null,
              "session_id": null,
              "statement_id": null,
              "state": "session_error",
              "livy_statement_state": null,
              "queued_time": "2021-05-13T06:01:32.6094382Z",
              "execution_start_time": null,
              "execution_finish_time": null
            },
            "text/plain": "StatementMeta(, , , SessionError, )"
          },
          "metadata": {}
        },
        {
          "output_type": "error",
          "ename": "InvalidHttpRequestToLivy",
          "evalue": "Your Spark job requested 24 vcores. However, the pool only has 8 vcores available out of quota of 80 vcores. Try ending the running job(s) in the pool, reducing the numbers of vcores requested, increasing the pool maximum size or using another pool. HTTP status code: 400. Trace ID: 9bbcfc7c-6983-48d1-9bbf-87811c0b54be.",
          "traceback": [
            "InvalidHttpRequestToLivy: Your Spark job requested 24 vcores. However, the pool only has 8 vcores available out of quota of 80 vcores. Try ending the running job(s) in the pool, reducing the numbers of vcores requested, increasing the pool maximum size or using another pool. HTTP status code: 400. Trace ID: 9bbcfc7c-6983-48d1-9bbf-87811c0b54be."
          ]
        }
      ],
      "metadata": {
        "jupyter": {
          "source_hidden": false,
          "outputs_hidden": false
        },
        "nteract": {
          "transient": {
            "deleting": false
          }
        },
        "microsoft": {},
        "collapsed": false
      },
      "source": [
        "df2 = spark.sql(\"SELECT * FROM trip\") \r\n",
        "display(df2)"
      ]
    },
    {
      "cell_type": "code",
      "execution_count": null,
      "outputs": [
        {
          "output_type": "display_data",
          "data": {
            "application/vnd.livy.statement-meta+json": {
              "spark_pool": null,
              "session_id": null,
              "statement_id": null,
              "state": "cancelled",
              "livy_statement_state": null,
              "queued_time": "2021-05-13T06:01:32.6111184Z",
              "execution_start_time": null,
              "execution_finish_time": "2021-05-13T06:01:32.7130633Z"
            },
            "text/plain": "StatementMeta(, , , Cancelled, )"
          },
          "metadata": {}
        }
      ],
      "metadata": {
        "jupyter": {
          "source_hidden": false,
          "outputs_hidden": false
        },
        "nteract": {
          "transient": {
            "deleting": false
          }
        },
        "microsoft": {},
        "collapsed": false
      },
      "source": [
        "df3 = spark.sql(\"\"\"\r\n",
        "   SELECT PassengerCount,\r\n",
        "       SUM(TripDistanceMiles) as SumTripDistance,\r\n",
        "       AVG(TripDistanceMiles) as AvgTripDistance\r\n",
        "   FROM trip\r\n",
        "   WHERE TripDistanceMiles > 0 AND PassengerCount > 0\r\n",
        "   GROUP BY PassengerCount\r\n",
        "   ORDER BY PassengerCount\r\n",
        "\"\"\") \r\n",
        "display(df3)\r\n",
        "df3.write.saveAsTable(\"passengercountstats\")"
      ]
    },
    {
      "cell_type": "code",
      "execution_count": null,
      "outputs": [],
      "metadata": {
        "jupyter": {
          "source_hidden": false,
          "outputs_hidden": false
        },
        "nteract": {
          "transient": {
            "deleting": false
          }
        },
        "collapsed": true
      },
      "source": [
        ""
      ]
    }
  ],
  "metadata": {
    "save_output": true,
    "kernelspec": {
      "name": "synapse_pyspark",
      "display_name": "Synapse PySpark"
    },
    "language_info": {
      "name": "python"
    },
    "synapse_widget": {
      "version": "0.1",
      "state": {}
    }
  }
}