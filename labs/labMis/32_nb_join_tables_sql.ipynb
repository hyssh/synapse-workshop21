{
  "cells": [
    {
      "cell_type": "markdown",
      "source": [
        "> Note: Change executor as 1 for this lab\r\n",
        "\r\n",
        "## Read Lake Database Table"
      ],
      "metadata": {
        "nteract": {
          "transient": {
            "deleting": false
          }
        }
      }
    },
    {
      "cell_type": "code",
      "source": [
        "df = spark.sql(\"\\\r\n",
        "    SELECT c.CustomerID, c.FirstName, c.LastName, c.CompanyName, c.SalesPerson, c.emailAddress, c.Phone, ca.AddressType, a.AddressLine1, a.AddressLine2, a.City, a.StateProvince, a.CountryRegion, a.PostalCode \\\r\n",
        "    FROM db_wwi.SalesLT_Customer as c \\\r\n",
        "    JOIN db_wwi.SalesLT_CustomerAddress as ca ON c.CustomerID = ca.CustomerID \\\r\n",
        "    JOIN db_wwi.SalesLT_Address as a ON ca.AddressID = a.AddressID\"\r\n",
        ")\r\n",
        "\r\n",
        "\r\n",
        "df.show()"
      ],
      "outputs": [],
      "execution_count": 20,
      "metadata": {}
    },
    {
      "cell_type": "code",
      "source": [
        "df.write.parquet(\"abfss://dev-synapse@hyundevsynapsestorage.dfs.core.windows.net/curated/mtcsdevsqlsrv/wwi/saleslt/customer.parquet\",  mode = 'overwrite')"
      ],
      "outputs": [],
      "execution_count": null,
      "metadata": {
        "jupyter": {
          "source_hidden": false,
          "outputs_hidden": false
        },
        "nteract": {
          "transient": {
            "deleting": false
          }
        }
      }
    },
    {
      "cell_type": "code",
      "source": [
        "# end of notebook"
      ],
      "outputs": [],
      "execution_count": null,
      "metadata": {
        "jupyter": {
          "source_hidden": false,
          "outputs_hidden": false
        },
        "nteract": {
          "transient": {
            "deleting": false
          }
        }
      }
    }
  ],
  "metadata": {
    "kernelspec": {
      "name": "synapse_pyspark",
      "display_name": "Synapse PySpark"
    },
    "language_info": {
      "name": "python"
    },
    "save_output": true,
    "synapse_widget": {
      "version": "0.1",
      "state": {}
    }
  },
  "nbformat": 4,
  "nbformat_minor": 2
}