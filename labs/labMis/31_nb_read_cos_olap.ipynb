{
  "cells": [
    {
      "cell_type": "code",
      "source": [
        "# Read from Cosmos DB (sql)  into a Spark DataFrame and display 10 rows from the DataFrame\n",
        "# To select a preferred list of regions in a multi-region Cosmos DB account, add .option(\"spark.cosmos.preferredRegions\", \"<Region1>,<Region2>\")\n",
        "\n",
        "df = spark.read\\\n",
        "    .format(\"cosmos.oltp\")\\\n",
        "    .option(\"spark.synapse.linkedService\", \"link_cos_wwi\")\\\n",
        "    .option(\"spark.cosmos.container\", \"customer\")\\\n",
        "    .load()\n",
        "\n",
        "display(df.limit(10))"
      ],
      "outputs": [
        {
          "output_type": "display_data",
          "data": {
            "application/vnd.livy.statement-meta+json": {
              "spark_pool": "sparkpool2",
              "session_id": 57,
              "statement_id": 1,
              "state": "finished",
              "livy_statement_state": "available",
              "queued_time": "2022-04-07T07:18:51.9549146Z",
              "session_start_time": "2022-04-07T07:18:52.0010541Z",
              "execution_start_time": "2022-04-07T07:19:38.7607489Z",
              "execution_finish_time": "2022-04-07T07:20:04.0387287Z"
            },
            "text/plain": "StatementMeta(sparkpool2, 57, 1, Finished, Available)"
          },
          "metadata": {}
        },
        {
          "output_type": "display_data",
          "data": {
            "application/vnd.synapse.widget-view+json": {
              "widget_id": "f5b9a664-e60f-4343-a908-afc05cda0e20",
              "widget_type": "Synapse.DataFrame"
            },
            "text/plain": "SynapseWidget(Synapse.DataFrame, f5b9a664-e60f-4343-a908-afc05cda0e20)"
          },
          "metadata": {}
        }
      ],
      "execution_count": 5,
      "metadata": {
        "collapsed": false
      }
    },
    {
      "cell_type": "code",
      "source": [
        "print(\"Number of rows: \", df.count())"
      ],
      "outputs": [
        {
          "output_type": "display_data",
          "data": {
            "application/vnd.livy.statement-meta+json": {
              "spark_pool": "sparkpool2",
              "session_id": 57,
              "statement_id": 2,
              "state": "finished",
              "livy_statement_state": "available",
              "queued_time": "2022-04-07T07:20:28.3447732Z",
              "session_start_time": null,
              "execution_start_time": "2022-04-07T07:20:28.4478317Z",
              "execution_finish_time": "2022-04-07T07:20:29.4820456Z"
            },
            "text/plain": "StatementMeta(sparkpool2, 57, 2, Finished, Available)"
          },
          "metadata": {}
        },
        {
          "output_type": "stream",
          "name": "stdout",
          "text": [
            "Number of rows:  836"
          ]
        }
      ],
      "execution_count": 6,
      "metadata": {
        "jupyter": {
          "source_hidden": false,
          "outputs_hidden": false
        },
        "nteract": {
          "transient": {
            "deleting": false
          }
        }
      }
    },
    {
      "cell_type": "code",
      "source": [
        "display(df.describe())"
      ],
      "outputs": [
        {
          "output_type": "display_data",
          "data": {
            "application/vnd.livy.statement-meta+json": {
              "spark_pool": "sparkpool2",
              "session_id": 57,
              "statement_id": 12,
              "state": "finished",
              "livy_statement_state": "available",
              "queued_time": "2022-04-07T07:22:39.9402212Z",
              "session_start_time": null,
              "execution_start_time": "2022-04-07T07:22:40.0426598Z",
              "execution_finish_time": "2022-04-07T07:22:41.8672228Z"
            },
            "text/plain": "StatementMeta(sparkpool2, 57, 12, Finished, Available)"
          },
          "metadata": {}
        },
        {
          "output_type": "display_data",
          "data": {
            "application/vnd.synapse.widget-view+json": {
              "widget_id": "beaaae06-8c5d-41ed-ae0f-46bd47d8d6bf",
              "widget_type": "Synapse.DataFrame"
            },
            "text/plain": "SynapseWidget(Synapse.DataFrame, beaaae06-8c5d-41ed-ae0f-46bd47d8d6bf)"
          },
          "metadata": {}
        }
      ],
      "execution_count": 16,
      "metadata": {
        "jupyter": {
          "source_hidden": false,
          "outputs_hidden": false
        },
        "nteract": {
          "transient": {
            "deleting": false
          }
        },
        "collapsed": false
      }
    },
    {
      "cell_type": "code",
      "source": [
        "display(df.groupBy([\"CountryRegion\"]).count())\r\n",
        "# df.groupBy([\"United States\"]).count().sum(\"ItemCount\").orderBy(\"sum(ItemCount)\").show()"
      ],
      "outputs": [
        {
          "output_type": "display_data",
          "data": {
            "application/vnd.livy.statement-meta+json": {
              "spark_pool": "sparkpool2",
              "session_id": 57,
              "statement_id": 14,
              "state": "finished",
              "livy_statement_state": "available",
              "queued_time": "2022-04-07T07:22:52.8216892Z",
              "session_start_time": null,
              "execution_start_time": "2022-04-07T07:22:52.9326435Z",
              "execution_finish_time": "2022-04-07T07:22:53.970582Z"
            },
            "text/plain": "StatementMeta(sparkpool2, 57, 14, Finished, Available)"
          },
          "metadata": {}
        },
        {
          "output_type": "display_data",
          "data": {
            "application/vnd.synapse.widget-view+json": {
              "widget_id": "4ed601af-91e7-4a6b-90fc-a618f12f19c8",
              "widget_type": "Synapse.DataFrame"
            },
            "text/plain": "SynapseWidget(Synapse.DataFrame, 4ed601af-91e7-4a6b-90fc-a618f12f19c8)"
          },
          "metadata": {}
        }
      ],
      "execution_count": 18,
      "metadata": {
        "jupyter": {
          "source_hidden": false,
          "outputs_hidden": false
        },
        "nteract": {
          "transient": {
            "deleting": false
          }
        },
        "collapsed": false
      }
    },
    {
      "cell_type": "code",
      "source": [
        "# end of notebook"
      ],
      "outputs": [],
      "execution_count": null,
      "metadata": {
        "jupyter": {
          "source_hidden": false,
          "outputs_hidden": false
        },
        "nteract": {
          "transient": {
            "deleting": false
          }
        }
      }
    }
  ],
  "metadata": {
    "kernelspec": {
      "name": "synapse_pyspark",
      "language": "Python",
      "display_name": "Synapse PySpark"
    },
    "language_info": {
      "name": "python"
    },
    "kernel_info": {
      "name": "synapse_pyspark"
    },
    "save_output": true,
    "synapse_widget": {
      "version": "0.1",
      "state": {
        "f5b9a664-e60f-4343-a908-afc05cda0e20": {
          "type": "Synapse.DataFrame",
          "sync_state": {
            "table": {
              "rows": [
                {
                  "0": "Parcel Express Delivery Service",
                  "1": "Bright",
                  "2": "United States",
                  "3": "29585",
                  "4": "Oregon",
                  "5": "Washington Square",
                  "6": "christopher2@adventure-works.com",
                  "7": "Christopher",
                  "9": "162-555-0166",
                  "10": "f32815ed-ac26-4936-ba68-8b096f88cade",
                  "12": "Portland",
                  "14": "Main Office",
                  "16": "adventure-works\\david8",
                  "17": "97205"
                },
                {
                  "0": "Extras Sporting Goods",
                  "1": "Johnson",
                  "2": "United States",
                  "3": "29884",
                  "4": "Illinois",
                  "5": "625 W Jackson Blvd. Unit 2502",
                  "6": "brian6@adventure-works.com",
                  "7": "Brian",
                  "9": "320-555-0134",
                  "10": "fce4b11f-1b6c-4e1a-9349-e57b657d3dcd",
                  "12": "Chicago",
                  "14": "Main Office",
                  "16": "adventure-works\\jillian0",
                  "17": "60610"
                },
                {
                  "0": "Fun Toys and Bikes",
                  "1": "Ahlering",
                  "2": "United States",
                  "3": "29496",
                  "4": "Arizona",
                  "5": "6500 East Grant Road",
                  "6": "robert1@adventure-works.com",
                  "7": "Robert",
                  "9": "678-555-0175",
                  "10": "39f88358-c0f3-4424-9256-38a4846cd35a",
                  "12": "Tucson",
                  "14": "Main Office",
                  "16": "adventure-works\\shu0",
                  "17": "85701"
                },
                {
                  "0": "Custom Accessories Company",
                  "1": "Bruno",
                  "2": "Canada",
                  "3": "29601",
                  "4": "Ontario",
                  "5": "251 Indell Lane",
                  "6": "dirk0@adventure-works.com",
                  "7": "Dirk",
                  "9": "817-555-0114",
                  "10": "ae8d5da1-379f-486e-a09e-97d8f21c1489",
                  "12": "Brampton",
                  "14": "Main Office",
                  "16": "adventure-works\\garrett1",
                  "17": "L6W 2T7"
                },
                {
                  "0": "Capable Sales and Service",
                  "1": "Katyal",
                  "2": "United States",
                  "3": "29898",
                  "4": "Washington",
                  "5": "765 Delridge Way Sw",
                  "6": "sandeep2@adventure-works.com",
                  "7": "Sandeep",
                  "9": "928-555-0117",
                  "10": "c33daf07-485b-4a02-b583-7f55b9021fe3",
                  "12": "Seattle",
                  "14": "Main Office",
                  "16": "adventure-works\\pamela0",
                  "17": "98104"
                },
                {
                  "0": "Commerce Bicycle Specialists",
                  "1": "Kesslep",
                  "2": "United Kingdom",
                  "3": "29904",
                  "4": "England",
                  "5": "Wharfdale Road",
                  "6": "mary8@adventure-works.com",
                  "7": "Mary",
                  "9": "1 (11) 500 555-0146",
                  "10": "c79021e0-27cd-46a1-8117-3d3b2be16255",
                  "12": "Berkshire",
                  "14": "Main Office",
                  "16": "adventure-works\\jae0",
                  "17": "RG11 5TP"
                },
                {
                  "0": "Largest Bike Store",
                  "1": "Kurniawan",
                  "2": "United States",
                  "3": "29930",
                  "4": "Illinois",
                  "5": "63 W Monroe",
                  "6": "peter4@adventure-works.com",
                  "7": "Peter",
                  "9": "436-555-0160",
                  "10": "4ca81963-aa33-447f-8316-eb6e3365856f",
                  "12": "Chicago",
                  "14": "Main Office",
                  "16": "adventure-works\\jillian0",
                  "17": "60610"
                },
                {
                  "0": "Advanced Bike Components",
                  "1": "Carreras",
                  "2": "United States",
                  "3": "29637",
                  "4": "Texas",
                  "5": "12345 Sterling Avenue",
                  "6": "donna0@adventure-works.com",
                  "7": "Donna",
                  "9": "279-555-0130",
                  "10": "e9a21b14-049b-497d-895e-2464e20ca5f9",
                  "12": "Irving",
                  "14": "Main Office",
                  "16": "adventure-works\\jillian0",
                  "17": "75061"
                },
                {
                  "0": "Elite Bikes",
                  "1": "Lisboa",
                  "2": "United States",
                  "3": "29954",
                  "4": "Texas",
                  "5": "Po Box 8259024",
                  "6": "paulo0@adventure-works.com",
                  "7": "Paulo",
                  "9": "380-555-0116",
                  "10": "a47f3f86-1a68-4046-9a9b-255c837aa081",
                  "12": "Dallas",
                  "14": "Main Office",
                  "16": "adventure-works\\jillian0",
                  "17": "75201"
                },
                {
                  "0": "Elite Bikes",
                  "1": "Lisboa",
                  "2": "United States",
                  "3": "29954",
                  "4": "Texas",
                  "5": "9178 Jumping St.",
                  "6": "paulo0@adventure-works.com",
                  "7": "Paulo",
                  "9": "380-555-0116",
                  "10": "39f8af49-2f8c-4789-b2ab-320f31daf693",
                  "12": "Dallas",
                  "14": "Shipping",
                  "16": "adventure-works\\jillian0",
                  "17": "75201"
                }
              ],
              "schema": [
                {
                  "key": "0",
                  "name": "CompanyName",
                  "type": "string"
                },
                {
                  "key": "1",
                  "name": "LastName",
                  "type": "string"
                },
                {
                  "key": "2",
                  "name": "CountryRegion",
                  "type": "string"
                },
                {
                  "key": "3",
                  "name": "CustomerID",
                  "type": "int"
                },
                {
                  "key": "4",
                  "name": "StateProvince",
                  "type": "string"
                },
                {
                  "key": "5",
                  "name": "AddressLine1",
                  "type": "string"
                },
                {
                  "key": "6",
                  "name": "emailAddress",
                  "type": "string"
                },
                {
                  "key": "7",
                  "name": "FirstName",
                  "type": "string"
                },
                {
                  "key": "8",
                  "name": "a",
                  "type": "int"
                },
                {
                  "key": "9",
                  "name": "Phone",
                  "type": "string"
                },
                {
                  "key": "10",
                  "name": "id",
                  "type": "string"
                },
                {
                  "key": "11",
                  "name": "b",
                  "type": "double"
                },
                {
                  "key": "12",
                  "name": "City",
                  "type": "string"
                },
                {
                  "key": "13",
                  "name": "AddressLine2",
                  "type": "string"
                },
                {
                  "key": "14",
                  "name": "AddressType",
                  "type": "string"
                },
                {
                  "key": "15",
                  "name": "c",
                  "type": "string"
                },
                {
                  "key": "16",
                  "name": "SalesPerson",
                  "type": "string"
                },
                {
                  "key": "17",
                  "name": "PostalCode",
                  "type": "string"
                }
              ],
              "truncated": false
            },
            "isSummary": false,
            "language": "scala"
          },
          "persist_state": {
            "view": {
              "type": "details",
              "tableOptions": {},
              "chartOptions": {
                "chartType": "bar",
                "aggregationType": "sum",
                "categoryFieldKeys": [
                  "0"
                ],
                "seriesFieldKeys": [
                  "3"
                ],
                "isStacked": false
              }
            }
          }
        },
        "beaaae06-8c5d-41ed-ae0f-46bd47d8d6bf": {
          "type": "Synapse.DataFrame",
          "sync_state": {
            "table": {
              "rows": [
                {
                  "0": "count",
                  "1": "835",
                  "2": "835",
                  "3": "835",
                  "4": "835",
                  "5": "835",
                  "6": "835",
                  "7": "835",
                  "8": "835",
                  "9": "1",
                  "10": "835",
                  "11": "836",
                  "12": "1",
                  "13": "835",
                  "14": "22",
                  "15": "835",
                  "16": "1",
                  "17": "835",
                  "18": "835"
                },
                {
                  "0": "mean",
                  "4": "29807.05508982036",
                  "9": "1.0",
                  "12": "4.0",
                  "18": "82956.55432780847"
                },
                {
                  "0": "stddev",
                  "4": "180.90465931653586",
                  "18": "15358.879238697937"
                },
                {
                  "0": "min",
                  "1": "A Bike Store",
                  "2": "Abel",
                  "3": "Canada",
                  "4": "29485",
                  "5": "Alberta",
                  "6": "#9900 2700 Production Way",
                  "7": "a0@adventure-works.com",
                  "8": "A.",
                  "9": "1",
                  "10": "1 (11) 500 555-0110",
                  "11": "00a67961-e5a2-4ce6-b002-3ec23d2b721e",
                  "12": "4.0",
                  "13": "Abingdon",
                  "14": "19th Floor",
                  "15": "Main Office",
                  "16": "GFG1",
                  "17": "adventure-works\\david8",
                  "18": "48034"
                },
                {
                  "0": "max",
                  "1": "Yellow Bicycle Company",
                  "2": "Vicknair",
                  "3": "United States",
                  "4": "30118",
                  "5": "Wyoming",
                  "6": "Wymbush",
                  "7": "yvonne1@adventure-works.com",
                  "8": "Yvonne",
                  "9": "1",
                  "10": "996-555-0196",
                  "11": "ff41bcb6-8b2a-4536-a8a7-48499cb0f1f0",
                  "12": "4.0",
                  "13": "Zeeland",
                  "14": "Suite 2501",
                  "15": "Shipping",
                  "16": "GFG1",
                  "17": "adventure-works\\shu0",
                  "18": "Y024 1GF"
                }
              ],
              "schema": [
                {
                  "key": "0",
                  "name": "summary",
                  "type": "string"
                },
                {
                  "key": "1",
                  "name": "CompanyName",
                  "type": "string"
                },
                {
                  "key": "2",
                  "name": "LastName",
                  "type": "string"
                },
                {
                  "key": "3",
                  "name": "CountryRegion",
                  "type": "string"
                },
                {
                  "key": "4",
                  "name": "CustomerID",
                  "type": "string"
                },
                {
                  "key": "5",
                  "name": "StateProvince",
                  "type": "string"
                },
                {
                  "key": "6",
                  "name": "AddressLine1",
                  "type": "string"
                },
                {
                  "key": "7",
                  "name": "emailAddress",
                  "type": "string"
                },
                {
                  "key": "8",
                  "name": "FirstName",
                  "type": "string"
                },
                {
                  "key": "9",
                  "name": "a",
                  "type": "string"
                },
                {
                  "key": "10",
                  "name": "Phone",
                  "type": "string"
                },
                {
                  "key": "11",
                  "name": "id",
                  "type": "string"
                },
                {
                  "key": "12",
                  "name": "b",
                  "type": "string"
                },
                {
                  "key": "13",
                  "name": "City",
                  "type": "string"
                },
                {
                  "key": "14",
                  "name": "AddressLine2",
                  "type": "string"
                },
                {
                  "key": "15",
                  "name": "AddressType",
                  "type": "string"
                },
                {
                  "key": "16",
                  "name": "c",
                  "type": "string"
                },
                {
                  "key": "17",
                  "name": "SalesPerson",
                  "type": "string"
                },
                {
                  "key": "18",
                  "name": "PostalCode",
                  "type": "string"
                }
              ],
              "truncated": false
            },
            "isSummary": false,
            "language": "scala"
          },
          "persist_state": {
            "view": {
              "type": "details",
              "tableOptions": {},
              "chartOptions": {
                "chartType": "bar",
                "aggregationType": "count",
                "categoryFieldKeys": [
                  "0"
                ],
                "seriesFieldKeys": [
                  "0"
                ],
                "isStacked": false
              }
            }
          }
        },
        "4ed601af-91e7-4a6b-90fc-a618f12f19c8": {
          "type": "Synapse.DataFrame",
          "sync_state": {
            "table": {
              "rows": [
                {
                  "1": "1"
                },
                {
                  "0": "United States",
                  "1": "545"
                },
                {
                  "0": "Canada",
                  "1": "214"
                },
                {
                  "0": "United Kingdom",
                  "1": "76"
                }
              ],
              "schema": [
                {
                  "key": "0",
                  "name": "CountryRegion",
                  "type": "string"
                },
                {
                  "key": "1",
                  "name": "count",
                  "type": "bigint"
                }
              ],
              "truncated": false
            },
            "isSummary": false,
            "language": "scala"
          },
          "persist_state": {
            "view": {
              "type": "details",
              "tableOptions": {},
              "chartOptions": {
                "chartType": "bar",
                "aggregationType": "sum",
                "categoryFieldKeys": [
                  "0"
                ],
                "seriesFieldKeys": [
                  "1"
                ],
                "isStacked": false
              }
            }
          }
        }
      }
    }
  },
  "nbformat": 4,
  "nbformat_minor": 2
}