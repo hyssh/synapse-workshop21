{
  "cells": [
    {
      "cell_type": "markdown",
      "source": [
        "> Note: Change executor as 1 for this lab\n",
        "\n",
        "## Load data to CosmosDB\n",
        "\n",
        "For Spark 3 Cosmos DB connector has slightly different configuration. Please select different snippest if a Spark 3.1 + pool is attached."
      ],
      "metadata": {}
    },
    {
      "cell_type": "code",
      "source": [
        "# Write a Spark DataFrame into a Cosmos DB container\n",
        "# To select a preferred list of regions in a multi-region Cosmos DB account, add .option(\"spark.cosmos.preferredRegions\", \"<Region1>,<Region2>\")\n",
        "import datetime\n",
        "import time\n",
        "import uuid\n",
        "from pyspark.sql.functions import udf\n",
        "from pyspark.sql.types import StringType, LongType\n",
        "\n",
        "\n",
        "df = spark.read.load('abfss://dev-synapse@hyundevsynapsestorage.dfs.core.windows.net/curated/mtcsdevsqlsrv/wwi/saleslt/customer.parquet/part-00000-1a3142c7-8399-4a96-b244-57a43b3c4174-c000.snappy.parquet', format='parquet')\n",
        "uuidUdf= udf(lambda : str(uuid.uuid4()),StringType())\n",
        "df = df \\\n",
        "  .withColumn(\"id\", uuidUdf()) \n",
        "  \n",
        "# For Spark 3.1 +\n",
        "df.write\\\n",
        "    .format(\"cosmos.oltp\")\\\n",
        "    .option(\"spark.synapse.linkedService\", \"link_cos_wwi\")\\\n",
        "    .option(\"spark.cosmos.container\", \"customer\")\\\n",
        "    .option(\"spark.cosmos.write.strategy\", \"ItemOverwrite\")\\\n",
        "    .option(\"spark.cosmos.write.bulk.enabled\", \"true\")\\\n",
        "    .mode('append')\\\n",
        "    .save()"
      ],
      "outputs": [],
      "execution_count": 24,
      "metadata": {}
    },
    {
      "cell_type": "code",
      "source": [
        "df.count()"
      ],
      "outputs": [],
      "execution_count": 23,
      "metadata": {
        "jupyter": {
          "source_hidden": false,
          "outputs_hidden": false
        },
        "nteract": {
          "transient": {
            "deleting": false
          }
        }
      }
    }
  ],
  "metadata": {
    "kernelspec": {
      "name": "synapse_pyspark",
      "display_name": "Synapse PySpark"
    },
    "language_info": {
      "name": "python"
    },
    "save_output": true,
    "synapse_widget": {
      "version": "0.1",
      "state": {}
    }
  },
  "nbformat": 4,
  "nbformat_minor": 2
}