{
  "nbformat": 4,
  "nbformat_minor": 2,
  "metadata": {
    "kernelspec": {
      "name": "synapse_pyspark",
      "display_name": "Synapse PySpark"
    },
    "language_info": {
      "name": "python"
    },
    "save_output": true,
    "synapse_widget": {
      "version": "0.1",
      "state": {}
    }
  },
  "cells": [
    {
      "cell_type": "markdown",
      "metadata": {
        "nteract": {
          "transient": {
            "deleting": false
          }
        }
      },
      "source": [
        "> Note: Change executor as 1 for this lab\r\n",
        "\r\n",
        "## Read and Join data \r\n",
        ""
      ]
    },
    {
      "cell_type": "code",
      "execution_count": null,
      "outputs": [],
      "metadata": {
        "jupyter": {
          "source_hidden": false,
          "outputs_hidden": false
        },
        "nteract": {
          "transient": {
            "deleting": false
          }
        }
      },
      "source": [
        "dfAdd = spark.read.load('abfss://dev-synapse@hyundevsynapsestorage.dfs.core.windows.net/raw/mtcsdevsqlsrv/wwi/SalesLTAddress.csv', format='csv', header=True)\r\n",
        "dfCust = spark.read.load('abfss://dev-synapse@hyundevsynapsestorage.dfs.core.windows.net/raw/mtcsdevsqlsrv/wwi/SalesLTCustomer.csv', format='csv', header=True)\r\n",
        "dfCustAdd = spark.read.load('abfss://dev-synapse@hyundevsynapsestorage.dfs.core.windows.net/raw/mtcsdevsqlsrv/wwi/SalesLTCustomerAddress.csv', format='csv', header=True)\r\n",
        "\r\n",
        "df = dfCust.join(dfCustAdd, dfCust.CustomerID == dfCustAdd.CustomerID) \\\r\n",
        "    .join(dfAdd, dfCustAdd.AddressID == dfAdd.AddressID) \\\r\n",
        "    .select(dfCust.CustomerID,\r\n",
        "        dfCust.NameStyle,\r\n",
        "        dfCust.Title,\r\n",
        "        dfCust.FirstName,\r\n",
        "        dfCust.MiddleName,\r\n",
        "        dfCust.LastName,\r\n",
        "        dfCust.CompanyName, \r\n",
        "        dfCust.SalesPerson,\r\n",
        "        dfCust.EmailAddress,\r\n",
        "        dfCust.Phone,\r\n",
        "        dfCustAdd.AddressID,\r\n",
        "        dfCustAdd.AddressType,\r\n",
        "        dfAdd.AddressLine1,\r\n",
        "        dfAdd.AddressLine2,\r\n",
        "        dfAdd.City,\r\n",
        "        dfAdd.StateProvince,\r\n",
        "        dfAdd.CountryRegion,\r\n",
        "        dfAdd.PostalCode\r\n",
        "     )\r\n",
        "\r\n",
        "df.show()"
      ]
    },
    {
      "cell_type": "code",
      "execution_count": 7,
      "outputs": [],
      "metadata": {
        "jupyter": {
          "source_hidden": false,
          "outputs_hidden": false
        },
        "nteract": {
          "transient": {
            "deleting": false
          }
        }
      },
      "source": [
        "df.printSchema()"
      ]
    },
    {
      "cell_type": "code",
      "execution_count": 8,
      "outputs": [],
      "metadata": {
        "jupyter": {
          "source_hidden": false,
          "outputs_hidden": false
        },
        "nteract": {
          "transient": {
            "deleting": false
          }
        },
        "collapsed": false
      },
      "source": [
        "display(df)"
      ]
    },
    {
      "cell_type": "code",
      "execution_count": 9,
      "outputs": [],
      "metadata": {
        "jupyter": {
          "source_hidden": false,
          "outputs_hidden": false
        },
        "nteract": {
          "transient": {
            "deleting": false
          }
        }
      },
      "source": [
        "df.write.parquet(\"abfss://dev-synapse@hyundevsynapsestorage.dfs.core.windows.net/curated/mtcsdevsqlsrv/wwi/saleslt/customer.parquet\",  mode = 'overwrite')"
      ]
    },
    {
      "cell_type": "code",
      "execution_count": null,
      "outputs": [],
      "metadata": {
        "jupyter": {
          "source_hidden": false,
          "outputs_hidden": false
        },
        "nteract": {
          "transient": {
            "deleting": false
          }
        }
      },
      "source": [
        "# end of notebook"
      ]
    }
  ]
}